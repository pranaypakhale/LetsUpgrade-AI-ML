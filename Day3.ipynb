{
  "nbformat": 4,
  "nbformat_minor": 0,
  "metadata": {
    "colab": {
      "name": "Day3.ipynb",
      "provenance": []
    },
    "kernelspec": {
      "name": "python3",
      "display_name": "Python 3"
    }
  },
  "cells": [
    {
      "cell_type": "code",
      "metadata": {
        "id": "Yfama4DeNBVV",
        "colab_type": "code",
        "colab": {}
      },
      "source": [
        ""
      ],
      "execution_count": null,
      "outputs": []
    },
    {
      "cell_type": "markdown",
      "metadata": {
        "id": "LiQ1FWk3NG4p",
        "colab_type": "text"
      },
      "source": [
        "1.Program to substract 2 complex nos. \n"
      ]
    },
    {
      "cell_type": "code",
      "metadata": {
        "id": "00I6lxB6NQsv",
        "colab_type": "code",
        "colab": {
          "base_uri": "https://localhost:8080/",
          "height": 34
        },
        "outputId": "ff23e5e9-eba6-4f3d-9ed6-1d28d2fdd2d3"
      },
      "source": [
        "a= 2+5j\n",
        "b= 6+8j\n",
        "c=a+b\n",
        "print(\"Substraction of 2 complex nos.:\",c)"
      ],
      "execution_count": 1,
      "outputs": [
        {
          "output_type": "stream",
          "text": [
            "Substraction of 2 complex nos.: (8+13j)\n"
          ],
          "name": "stdout"
        }
      ]
    },
    {
      "cell_type": "markdown",
      "metadata": {
        "id": "uce95ikgNwIg",
        "colab_type": "text"
      },
      "source": [
        "2.Program to find the forth root of no."
      ]
    },
    {
      "cell_type": "code",
      "metadata": {
        "id": "QcwUMNjxN3-9",
        "colab_type": "code",
        "colab": {
          "base_uri": "https://localhost:8080/",
          "height": 34
        },
        "outputId": "a919bd54-6014-4569-e6fe-3a3d19ae3219"
      },
      "source": [
        "x=6\n",
        "y=x**(1/4)\n",
        "print(\"Fourth Root of x\",y)"
      ],
      "execution_count": 4,
      "outputs": [
        {
          "output_type": "stream",
          "text": [
            "Fourth Root of x 1.5650845800732873\n"
          ],
          "name": "stdout"
        }
      ]
    },
    {
      "cell_type": "markdown",
      "metadata": {
        "id": "f40bWAOkPMz3",
        "colab_type": "text"
      },
      "source": [
        "3.Program to swap 2 nos. with the help of temp var.\n"
      ]
    },
    {
      "cell_type": "code",
      "metadata": {
        "id": "lK99Sv78Pc2K",
        "colab_type": "code",
        "colab": {
          "base_uri": "https://localhost:8080/",
          "height": 85
        },
        "outputId": "ae549f4f-8d49-4cad-a156-d7b3cd3e65e7"
      },
      "source": [
        "a= 101\n",
        "b= 555\n",
        "print(\"value of no. 1 before swapping:\",a)\n",
        "print(\"value of no. 2 before swapping:\",b)\n",
        "\n",
        "temp=a\n",
        "a=b\n",
        "b=temp\n",
        "\n",
        "print(\"value of no. 1 after swapping:\",a)\n",
        "print(\"value of no. 2 after swapping:\",b)\n"
      ],
      "execution_count": 5,
      "outputs": [
        {
          "output_type": "stream",
          "text": [
            "value of no. 1 before swapping: 101\n",
            "value of no. 2 before swapping: 555\n",
            "value of no. 1 after swapping: 555\n",
            "value of no. 2 after swapping: 101\n"
          ],
          "name": "stdout"
        }
      ]
    },
    {
      "cell_type": "markdown",
      "metadata": {
        "id": "SvNcKE1kRtTN",
        "colab_type": "text"
      },
      "source": [
        "4.Program to swap 2 nos. without the help of temp var."
      ]
    },
    {
      "cell_type": "code",
      "metadata": {
        "id": "ynOac52mR06G",
        "colab_type": "code",
        "colab": {}
      },
      "source": [
        "a= 101\n",
        "b= 555\n",
        "print(\"value of no. 1 before swapping:\",a)\n",
        "print(\"value of no. 2 before swapping:\",b)\n",
        "\n",
        "a,b = b,a\n",
        "\n",
        "print(\"value of no. 1 after swapping:\",a)\n",
        "print(\"value of no. 2 after swapping:\",b)"
      ],
      "execution_count": null,
      "outputs": []
    },
    {
      "cell_type": "markdown",
      "metadata": {
        "id": "n87kbLhKSBXK",
        "colab_type": "text"
      },
      "source": [
        "5. Program to convert farenheit to kelvin and celsius"
      ]
    },
    {
      "cell_type": "code",
      "metadata": {
        "id": "78-BUU70SQGq",
        "colab_type": "code",
        "colab": {
          "base_uri": "https://localhost:8080/",
          "height": 34
        },
        "outputId": "c90b42ab-14cc-4365-f73d-0b013528d258"
      },
      "source": [
        "t= float(input(\"enter temperature in farenheit:\"))\n",
        "c =(t-32)*5/9\n",
        "k =(t-32)*(5/9)+273.15\n",
        "\n",
        "print=(\"temperature in Celsius:\",c)\n",
        "print=(\"temperature in Kelvin:\",k)\n"
      ],
      "execution_count": 22,
      "outputs": [
        {
          "output_type": "stream",
          "text": [
            "enter temperature in farenheit:67\n"
          ],
          "name": "stdout"
        }
      ]
    },
    {
      "cell_type": "markdown",
      "metadata": {
        "id": "EgJYbWofXzV8",
        "colab_type": "text"
      },
      "source": [
        ""
      ]
    },
    {
      "cell_type": "markdown",
      "metadata": {
        "id": "DmfBqyDgXzlq",
        "colab_type": "text"
      },
      "source": [
        "6. Program to demonstrate all datatypes \n"
      ]
    },
    {
      "cell_type": "code",
      "metadata": {
        "id": "_J0EThMEZiU6",
        "colab_type": "code",
        "colab": {
          "base_uri": "https://localhost:8080/",
          "height": 34
        },
        "outputId": "beb6985b-2206-401b-ea43-e7fe40caa526"
      },
      "source": [
        "a=5\n",
        "type(a)"
      ],
      "execution_count": 34,
      "outputs": [
        {
          "output_type": "execute_result",
          "data": {
            "text/plain": [
              "int"
            ]
          },
          "metadata": {
            "tags": []
          },
          "execution_count": 34
        }
      ]
    },
    {
      "cell_type": "code",
      "metadata": {
        "id": "-0NHtZWfZmlN",
        "colab_type": "code",
        "colab": {
          "base_uri": "https://localhost:8080/",
          "height": 34
        },
        "outputId": "ad73495f-5a6f-4261-8e2a-713a0e92b06a"
      },
      "source": [
        "b= 4.75\n",
        "type(b)"
      ],
      "execution_count": 35,
      "outputs": [
        {
          "output_type": "execute_result",
          "data": {
            "text/plain": [
              "float"
            ]
          },
          "metadata": {
            "tags": []
          },
          "execution_count": 35
        }
      ]
    },
    {
      "cell_type": "code",
      "metadata": {
        "id": "slUZ6oQdZxvo",
        "colab_type": "code",
        "colab": {
          "base_uri": "https://localhost:8080/",
          "height": 34
        },
        "outputId": "14c0fed5-26ac-4a2c-e8dd-e9f70028b223"
      },
      "source": [
        "c=4+5j\n",
        "type(c)"
      ],
      "execution_count": 36,
      "outputs": [
        {
          "output_type": "execute_result",
          "data": {
            "text/plain": [
              "complex"
            ]
          },
          "metadata": {
            "tags": []
          },
          "execution_count": 36
        }
      ]
    },
    {
      "cell_type": "markdown",
      "metadata": {
        "id": "hjABSpJVZ8f3",
        "colab_type": "text"
      },
      "source": [
        "7. Steps to upload assignment in github.\n",
        "  a. go to hithub.com\n",
        "  b. sign up with your email id that is register with Letsupgrate\n",
        "  c. Click on repository\n",
        "  d. create repository by the name- \"Lets Upgrade AI-ML\"\n",
        "  e. click on the repository which you have created\n",
        "  f. upload .ipynb file wherever you have created in the computer\n"
      ]
    }
  ]
}