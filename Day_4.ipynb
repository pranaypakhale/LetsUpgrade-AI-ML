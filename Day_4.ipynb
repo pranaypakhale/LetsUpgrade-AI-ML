{
  "nbformat": 4,
  "nbformat_minor": 0,
  "metadata": {
    "colab": {
      "name": "Day-4",
      "provenance": []
    },
    "kernelspec": {
      "name": "python3",
      "display_name": "Python 3"
    }
  },
  "cells": [
    {
      "cell_type": "code",
      "metadata": {
        "id": "cTL_jnY3QDm9",
        "colab_type": "code",
        "colab": {}
      },
      "source": [
        ""
      ],
      "execution_count": null,
      "outputs": []
    },
    {
      "cell_type": "markdown",
      "metadata": {
        "id": "mtY2oZqkQISu",
        "colab_type": "text"
      },
      "source": [
        "Q1.\n"
      ]
    },
    {
      "cell_type": "code",
      "metadata": {
        "id": "xQuFyplRQOle",
        "colab_type": "code",
        "colab": {
          "base_uri": "https://localhost:8080/",
          "height": 85
        },
        "outputId": "7f86a721-7634-4fec-c8f0-e5bcc201c98c"
      },
      "source": [
        "a=4+5j\n",
        "b=5+7j\n",
        "c=a+b\n",
        "d=a-b\n",
        "e=a*b\n",
        "f=a/b\n",
        " # floor division of complex no. is not possible\n",
        " # mod of complex no. is not possible\n",
        "\n",
        "print(\"Addition of two complex nos. is\",c)\n",
        "print(\"Substraction of two complex nos. is\",d)\n",
        "print(\"Multiplication of two complex nos. is\",e)\n",
        "print(\"Division of two complex nos. is\",f)"
      ],
      "execution_count": 10,
      "outputs": [
        {
          "output_type": "stream",
          "text": [
            "Addition of two complex nos. is (9+12j)\n",
            "Substraction of two complex nos. is (-1-2j)\n",
            "Multiplication of two complex nos. is (-15+53j)\n",
            "Division of two complex nos. is (0.7432432432432433-0.04054054054054052j)\n"
          ],
          "name": "stdout"
        }
      ]
    },
    {
      "cell_type": "code",
      "metadata": {
        "id": "lEIToWFNS6Jh",
        "colab_type": "code",
        "colab": {}
      },
      "source": [
        ""
      ],
      "execution_count": null,
      "outputs": []
    },
    {
      "cell_type": "markdown",
      "metadata": {
        "id": "foOFxzuKTAZp",
        "colab_type": "text"
      },
      "source": [
        "Q.2. Range Operation- range(k) creates a list which starts at 0 and contains numbers uptill (k-1) with increment of one from 0.\n",
        "\n",
        "Ex- x= [1,2,3,4,5,6,7,8,9]\n",
        "x=range(8)"
      ]
    },
    {
      "cell_type": "markdown",
      "metadata": {
        "id": "oSL-CVnDSXEa",
        "colab_type": "text"
      },
      "source": [
        "Q.3\n"
      ]
    },
    {
      "cell_type": "code",
      "metadata": {
        "id": "v6NKzVTcT3tk",
        "colab_type": "code",
        "colab": {
          "base_uri": "https://localhost:8080/",
          "height": 34
        },
        "outputId": "ed635795-a1d0-4283-a067-6c9b1a7baa9f"
      },
      "source": [
        "a=7\n",
        "b=9\n",
        "\n",
        "if a-b>25:\n",
        "  print(\"Multliplication of two nos. is\",a*b)\n",
        "else:\n",
        "  print(\"Division of two nos. is\",a/b)\n"
      ],
      "execution_count": 18,
      "outputs": [
        {
          "output_type": "stream",
          "text": [
            "Division of two nos. is 0.7777777777777778\n"
          ],
          "name": "stdout"
        }
      ]
    },
    {
      "cell_type": "markdown",
      "metadata": {
        "id": "9RvHmmTGT0jp",
        "colab_type": "text"
      },
      "source": [
        "Q5."
      ]
    },
    {
      "cell_type": "code",
      "metadata": {
        "id": "WRLS_HIDVqWF",
        "colab_type": "code",
        "colab": {
          "base_uri": "https://localhost:8080/",
          "height": 68
        },
        "outputId": "3f91ff05-dc6b-4151-8074-4b3c66788d26"
      },
      "source": [
        "l=[2,4,6,8,10,12,14,16,18,20]\n",
        "for i in l:\n",
        "  if(i/2)>7:\n",
        "    print(\"Division of\",i,\"with 2 is greater than 7\")"
      ],
      "execution_count": 19,
      "outputs": [
        {
          "output_type": "stream",
          "text": [
            "Division of 16 with 2 is greater than 7\n",
            "Division of 18 with 2 is greater than 7\n",
            "Division of 20 with 2 is greater than 7\n"
          ],
          "name": "stdout"
        }
      ]
    },
    {
      "cell_type": "markdown",
      "metadata": {
        "id": "7-S8bGc7Y32t",
        "colab_type": "text"
      },
      "source": [
        "Q4."
      ]
    },
    {
      "cell_type": "code",
      "metadata": {
        "id": "lIkBQnbRY5UJ",
        "colab_type": "code",
        "colab": {
          "base_uri": "https://localhost:8080/",
          "height": 136
        },
        "outputId": "b6892e93-35d5-4e55-bde0-2b52d6ed7df6"
      },
      "source": [
        "l=[3,4,6,8,11,12,14,17,18,20]\n",
        "for i in l:\n",
        "  if(i%2==0):\n",
        "    print(\"Sqaure of\",i,\"minus 2\",i**2-2)\n"
      ],
      "execution_count": 23,
      "outputs": [
        {
          "output_type": "stream",
          "text": [
            "Sqaure of 4 minus 2 14\n",
            "Sqaure of 6 minus 2 34\n",
            "Sqaure of 8 minus 2 62\n",
            "Sqaure of 12 minus 2 142\n",
            "Sqaure of 14 minus 2 194\n",
            "Sqaure of 18 minus 2 322\n",
            "Sqaure of 20 minus 2 398\n"
          ],
          "name": "stdout"
        }
      ]
    },
    {
      "cell_type": "code",
      "metadata": {
        "id": "DhIpTMUmSZWt",
        "colab_type": "code",
        "colab": {}
      },
      "source": [
        ""
      ],
      "execution_count": null,
      "outputs": []
    },
    {
      "cell_type": "code",
      "metadata": {
        "id": "1lU8aar-QL5P",
        "colab_type": "code",
        "colab": {}
      },
      "source": [
        ""
      ],
      "execution_count": null,
      "outputs": []
    }
  ]
}