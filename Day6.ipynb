{
  "nbformat": 4,
  "nbformat_minor": 0,
  "metadata": {
    "colab": {
      "name": "Day6.ipynb",
      "provenance": [],
      "collapsed_sections": []
    },
    "kernelspec": {
      "name": "python3",
      "display_name": "Python 3"
    }
  },
  "cells": [
    {
      "cell_type": "markdown",
      "metadata": {
        "id": "nVlS1nUeeLn8",
        "colab_type": "text"
      },
      "source": [
        "**Question 1**"
      ]
    },
    {
      "cell_type": "code",
      "metadata": {
        "id": "budNYhzneS_L",
        "colab_type": "code",
        "colab": {
          "base_uri": "https://localhost:8080/",
          "height": 51
        },
        "outputId": "1761d192-f94c-4828-b60a-a6722cdbea7d"
      },
      "source": [
        "email= input(\"Enter your email address :\")\n",
        "\n",
        "add=email.index(\"@\")\n",
        "add1=email.index(\".\")\n",
        "\n",
        "print(email[add+1:add1])"
      ],
      "execution_count": 2,
      "outputs": [
        {
          "output_type": "stream",
          "text": [
            "Enter your email address :pranaypakhale@gmail.com\n",
            "gmail\n"
          ],
          "name": "stdout"
        }
      ]
    },
    {
      "cell_type": "markdown",
      "metadata": {
        "id": "dtKBatAkmyn_",
        "colab_type": "text"
      },
      "source": [
        "**Question 2**"
      ]
    },
    {
      "cell_type": "code",
      "metadata": {
        "id": "REndiqhzm3Z7",
        "colab_type": "code",
        "colab": {
          "base_uri": "https://localhost:8080/",
          "height": 51
        },
        "outputId": "153fb20f-eaa2-4da3-b633-8fff4a79a2ef"
      },
      "source": [
        "mysortedlist= list(input(\"Enter comma-seperated words: \").split(','))\n",
        "mysortedlist.sort()\n",
        "\n",
        "print(mysortedlist,end=\" \")"
      ],
      "execution_count": 5,
      "outputs": [
        {
          "output_type": "stream",
          "text": [
            "Enter comma-seperated words: game,olympic,shotput,javelin\n",
            "['game', 'javelin', 'olympic', 'shotput'] "
          ],
          "name": "stdout"
        }
      ]
    },
    {
      "cell_type": "markdown",
      "metadata": {
        "id": "h-b_OfToo1sR",
        "colab_type": "text"
      },
      "source": [
        "**Question 3**"
      ]
    },
    {
      "cell_type": "code",
      "metadata": {
        "id": "_U1bAhwmo7Gk",
        "colab_type": "code",
        "colab": {
          "base_uri": "https://localhost:8080/",
          "height": 34
        },
        "outputId": "61dfb51e-af1d-4de9-9d9c-968f67ef6fac"
      },
      "source": [
        "set={'apple', 'banana', 'cherry','orange'}\n",
        "print(set)"
      ],
      "execution_count": 12,
      "outputs": [
        {
          "output_type": "stream",
          "text": [
            "{'cherry', 'apple', 'orange', 'banana'}\n"
          ],
          "name": "stdout"
        }
      ]
    },
    {
      "cell_type": "markdown",
      "metadata": {
        "id": "TwdPtN_gqGwJ",
        "colab_type": "text"
      },
      "source": [
        "**Question 4**"
      ]
    },
    {
      "cell_type": "code",
      "metadata": {
        "id": "KzbaLhs_qKGq",
        "colab_type": "code",
        "colab": {
          "base_uri": "https://localhost:8080/",
          "height": 51
        },
        "outputId": "4afd61cd-d301-47b6-f32e-f890dedb6102"
      },
      "source": [
        "listinput = list(map(int,input('Input Value :').split()))\n",
        "\n",
        "for i in range(1,listinput[-1]+1):\n",
        "  if i not in listinput:\n",
        "    print('the missing value is: ',i)"
      ],
      "execution_count": 15,
      "outputs": [
        {
          "output_type": "stream",
          "text": [
            "Input Value :1 2 3 4 5 7 8 9\n",
            "the missing value is:  6\n"
          ],
          "name": "stdout"
        }
      ]
    },
    {
      "cell_type": "markdown",
      "metadata": {
        "id": "rcWfIqo7srXU",
        "colab_type": "text"
      },
      "source": [
        "**Question 5**"
      ]
    },
    {
      "cell_type": "code",
      "metadata": {
        "id": "JNXu8ctmsv1c",
        "colab_type": "code",
        "colab": {
          "base_uri": "https://localhost:8080/",
          "height": 85
        },
        "outputId": "b602bf78-fb65-43fd-ae01-605b869a369d"
      },
      "source": [
        "list1 = [10,20,30,10,40,50,30]\n",
        "\n",
        "list=[]\n",
        "\n",
        "for i in list1:\n",
        "  if i not in list:\n",
        "    list.append(i)\n",
        "    \n",
        "print('Original List :''\\n',list1,)\n",
        "print('List after removing duplicate elemnts :''\\n',list,)\n",
        "\n",
        "    "
      ],
      "execution_count": 31,
      "outputs": [
        {
          "output_type": "stream",
          "text": [
            "Original List :\n",
            " [10, 20, 30, 10, 40, 50, 30]\n",
            "List after removing duplicate elemnts :\n",
            " [10, 20, 30, 40, 50]\n"
          ],
          "name": "stdout"
        }
      ]
    }
  ]
}