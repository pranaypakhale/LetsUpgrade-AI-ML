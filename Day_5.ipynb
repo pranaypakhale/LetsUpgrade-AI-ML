{
  "nbformat": 4,
  "nbformat_minor": 0,
  "metadata": {
    "colab": {
      "name": "Day-5.ipynb",
      "provenance": []
    },
    "kernelspec": {
      "name": "python3",
      "display_name": "Python 3"
    }
  },
  "cells": [
    {
      "cell_type": "markdown",
      "metadata": {
        "id": "QQlvVjLmsi8w",
        "colab_type": "text"
      },
      "source": [
        "Q1."
      ]
    },
    {
      "cell_type": "code",
      "metadata": {
        "id": "0n7wOmP2soVn",
        "colab_type": "code",
        "colab": {
          "base_uri": "https://localhost:8080/",
          "height": 102
        },
        "outputId": "a1cb7c1d-8f3a-47e2-f631-8cdc162aea96"
      },
      "source": [
        "n= int(input(\"How many prime nos. you want to print?\"))\n",
        "nos=range(1,n*10)\n",
        "prime_nos=[]\n",
        "\n",
        "for num in nos:\n",
        "  if num>2 and len(prime_nos)<=n-1:\n",
        "    for i in range(2,num):\n",
        "      if(num%i)==0:\n",
        "        break\n",
        "    else:\n",
        "      prime_nos.append(num)\n",
        "\n",
        "print(\"\\nHere are the first\",n,\"non-even prime numbers:\\n\")\n",
        "for x in prime_nos:\n",
        "  print(x,end=\"  \")"
      ],
      "execution_count": 4,
      "outputs": [
        {
          "output_type": "stream",
          "text": [
            "How many prime nos. you want to print?20\n",
            "\n",
            "Here are the first 20 non-even prime numbers:\n",
            "\n",
            "3  5  7  11  13  17  19  23  29  31  37  41  43  47  53  59  61  67  71  73  "
          ],
          "name": "stdout"
        }
      ]
    },
    {
      "cell_type": "markdown",
      "metadata": {
        "id": "OdoYF2T0ubPz",
        "colab_type": "text"
      },
      "source": [
        "Q2."
      ]
    },
    {
      "cell_type": "code",
      "metadata": {
        "id": "JfSe-yO7uckx",
        "colab_type": "code",
        "colab": {
          "base_uri": "https://localhost:8080/",
          "height": 34
        },
        "outputId": "ef4eef53-58d2-4980-99c5-7997a11958ec"
      },
      "source": [
        "#15 functions of string\n",
        "\n",
        "x= \"Bombay\"\n",
        "y= \"Bangalore\"\n",
        "x,y"
      ],
      "execution_count": 5,
      "outputs": [
        {
          "output_type": "execute_result",
          "data": {
            "text/plain": [
              "('Bombay', 'Bangalore')"
            ]
          },
          "metadata": {
            "tags": []
          },
          "execution_count": 5
        }
      ]
    },
    {
      "cell_type": "code",
      "metadata": {
        "id": "5Rj-5BkLyd2t",
        "colab_type": "code",
        "colab": {
          "base_uri": "https://localhost:8080/",
          "height": 34
        },
        "outputId": "f6a2a6c2-5c02-4ea5-b8a8-8786be8f6e7c"
      },
      "source": [
        "len(x),len(y)"
      ],
      "execution_count": 6,
      "outputs": [
        {
          "output_type": "execute_result",
          "data": {
            "text/plain": [
              "(6, 9)"
            ]
          },
          "metadata": {
            "tags": []
          },
          "execution_count": 6
        }
      ]
    },
    {
      "cell_type": "code",
      "metadata": {
        "id": "hULBG2oAyoJN",
        "colab_type": "code",
        "colab": {
          "base_uri": "https://localhost:8080/",
          "height": 35
        },
        "outputId": "8c0f66f8-cc1c-40dd-a2cb-6b93772fe606"
      },
      "source": [
        "x+y"
      ],
      "execution_count": 7,
      "outputs": [
        {
          "output_type": "execute_result",
          "data": {
            "application/vnd.google.colaboratory.intrinsic": {
              "type": "string"
            },
            "text/plain": [
              "'BombayBangalore'"
            ]
          },
          "metadata": {
            "tags": []
          },
          "execution_count": 7
        }
      ]
    },
    {
      "cell_type": "code",
      "metadata": {
        "id": "2CM8xIjYy3Xf",
        "colab_type": "code",
        "colab": {
          "base_uri": "https://localhost:8080/",
          "height": 35
        },
        "outputId": "214f220a-edfb-4e77-a8ea-de2064e95580"
      },
      "source": [
        "z= x+\" to \"+y\n",
        "z"
      ],
      "execution_count": 11,
      "outputs": [
        {
          "output_type": "execute_result",
          "data": {
            "application/vnd.google.colaboratory.intrinsic": {
              "type": "string"
            },
            "text/plain": [
              "'Bombay to Bangalore'"
            ]
          },
          "metadata": {
            "tags": []
          },
          "execution_count": 11
        }
      ]
    },
    {
      "cell_type": "code",
      "metadata": {
        "id": "Yz-f7WLFzXv9",
        "colab_type": "code",
        "colab": {
          "base_uri": "https://localhost:8080/",
          "height": 35
        },
        "outputId": "30e097f4-5853-43c1-d5c1-d7ea8479c371"
      },
      "source": [
        "z.upper()"
      ],
      "execution_count": 12,
      "outputs": [
        {
          "output_type": "execute_result",
          "data": {
            "application/vnd.google.colaboratory.intrinsic": {
              "type": "string"
            },
            "text/plain": [
              "'BOMBAY TO BANGALORE'"
            ]
          },
          "metadata": {
            "tags": []
          },
          "execution_count": 12
        }
      ]
    },
    {
      "cell_type": "code",
      "metadata": {
        "id": "2OcFBFfxzfge",
        "colab_type": "code",
        "colab": {
          "base_uri": "https://localhost:8080/",
          "height": 35
        },
        "outputId": "6b9fb065-8873-468d-80a9-18ab2ddb954f"
      },
      "source": [
        "z.lower()"
      ],
      "execution_count": 13,
      "outputs": [
        {
          "output_type": "execute_result",
          "data": {
            "application/vnd.google.colaboratory.intrinsic": {
              "type": "string"
            },
            "text/plain": [
              "'bombay to bangalore'"
            ]
          },
          "metadata": {
            "tags": []
          },
          "execution_count": 13
        }
      ]
    },
    {
      "cell_type": "code",
      "metadata": {
        "id": "LN8MBLXCzjKX",
        "colab_type": "code",
        "colab": {
          "base_uri": "https://localhost:8080/",
          "height": 35
        },
        "outputId": "d4eb61cf-8ec0-491a-bb14-11d68fc74001"
      },
      "source": [
        "z.capitalize()"
      ],
      "execution_count": 14,
      "outputs": [
        {
          "output_type": "execute_result",
          "data": {
            "application/vnd.google.colaboratory.intrinsic": {
              "type": "string"
            },
            "text/plain": [
              "'Bombay to bangalore'"
            ]
          },
          "metadata": {
            "tags": []
          },
          "execution_count": 14
        }
      ]
    },
    {
      "cell_type": "code",
      "metadata": {
        "id": "4bF7TDknznv-",
        "colab_type": "code",
        "colab": {
          "base_uri": "https://localhost:8080/",
          "height": 35
        },
        "outputId": "c6969e75-6826-4f8a-843a-a66d3fe8957b"
      },
      "source": [
        "z.rjust(20)"
      ],
      "execution_count": 15,
      "outputs": [
        {
          "output_type": "execute_result",
          "data": {
            "application/vnd.google.colaboratory.intrinsic": {
              "type": "string"
            },
            "text/plain": [
              "' Bombay to Bangalore'"
            ]
          },
          "metadata": {
            "tags": []
          },
          "execution_count": 15
        }
      ]
    },
    {
      "cell_type": "code",
      "metadata": {
        "id": "eaD8QbVzzyiE",
        "colab_type": "code",
        "colab": {
          "base_uri": "https://localhost:8080/",
          "height": 35
        },
        "outputId": "e3f707df-e208-4d92-c22b-c81a7588361d"
      },
      "source": [
        "z.ljust(20)"
      ],
      "execution_count": 16,
      "outputs": [
        {
          "output_type": "execute_result",
          "data": {
            "application/vnd.google.colaboratory.intrinsic": {
              "type": "string"
            },
            "text/plain": [
              "'Bombay to Bangalore '"
            ]
          },
          "metadata": {
            "tags": []
          },
          "execution_count": 16
        }
      ]
    },
    {
      "cell_type": "code",
      "metadata": {
        "id": "zlR-WflW0Bs3",
        "colab_type": "code",
        "colab": {
          "base_uri": "https://localhost:8080/",
          "height": 35
        },
        "outputId": "3a00f1d0-9fc7-4085-f39f-1bea1c4ac57c"
      },
      "source": [
        "z.center(20)"
      ],
      "execution_count": 17,
      "outputs": [
        {
          "output_type": "execute_result",
          "data": {
            "application/vnd.google.colaboratory.intrinsic": {
              "type": "string"
            },
            "text/plain": [
              "'Bombay to Bangalore '"
            ]
          },
          "metadata": {
            "tags": []
          },
          "execution_count": 17
        }
      ]
    },
    {
      "cell_type": "code",
      "metadata": {
        "id": "6T7uJOEg0NCx",
        "colab_type": "code",
        "colab": {
          "base_uri": "https://localhost:8080/",
          "height": 34
        },
        "outputId": "c23d00ca-8414-4eba-eb38-c5c1b3f3a174"
      },
      "source": [
        "z.isalpha()"
      ],
      "execution_count": 18,
      "outputs": [
        {
          "output_type": "execute_result",
          "data": {
            "text/plain": [
              "False"
            ]
          },
          "metadata": {
            "tags": []
          },
          "execution_count": 18
        }
      ]
    },
    {
      "cell_type": "code",
      "metadata": {
        "id": "85vJe4Gr09KT",
        "colab_type": "code",
        "colab": {
          "base_uri": "https://localhost:8080/",
          "height": 35
        },
        "outputId": "f17d1f2b-7720-460d-885a-acb5ac2986fd"
      },
      "source": [
        "z.swapcase()"
      ],
      "execution_count": 19,
      "outputs": [
        {
          "output_type": "execute_result",
          "data": {
            "application/vnd.google.colaboratory.intrinsic": {
              "type": "string"
            },
            "text/plain": [
              "'bOMBAY TO bANGALORE'"
            ]
          },
          "metadata": {
            "tags": []
          },
          "execution_count": 19
        }
      ]
    },
    {
      "cell_type": "code",
      "metadata": {
        "id": "w0i0Ixs21ADn",
        "colab_type": "code",
        "colab": {
          "base_uri": "https://localhost:8080/",
          "height": 34
        },
        "outputId": "80b97315-48db-475c-c706-280231e1fe4f"
      },
      "source": [
        "z.isnumeric()"
      ],
      "execution_count": 21,
      "outputs": [
        {
          "output_type": "execute_result",
          "data": {
            "text/plain": [
              "False"
            ]
          },
          "metadata": {
            "tags": []
          },
          "execution_count": 21
        }
      ]
    },
    {
      "cell_type": "code",
      "metadata": {
        "id": "OFeX7upZ1ZzO",
        "colab_type": "code",
        "colab": {
          "base_uri": "https://localhost:8080/",
          "height": 34
        },
        "outputId": "e007bbd9-d7c8-4ecf-8f10-22536aa35685"
      },
      "source": [
        "z.isprintable()"
      ],
      "execution_count": 22,
      "outputs": [
        {
          "output_type": "execute_result",
          "data": {
            "text/plain": [
              "True"
            ]
          },
          "metadata": {
            "tags": []
          },
          "execution_count": 22
        }
      ]
    },
    {
      "cell_type": "code",
      "metadata": {
        "id": "DRsfTYC51iQw",
        "colab_type": "code",
        "colab": {
          "base_uri": "https://localhost:8080/",
          "height": 35
        },
        "outputId": "bffc6e7a-7eeb-480a-c55c-2987b80e7e8c"
      },
      "source": [
        "z.replace(\"Bom\",\"b@&\")"
      ],
      "execution_count": 24,
      "outputs": [
        {
          "output_type": "execute_result",
          "data": {
            "application/vnd.google.colaboratory.intrinsic": {
              "type": "string"
            },
            "text/plain": [
              "'b@&bay to Bangalore'"
            ]
          },
          "metadata": {
            "tags": []
          },
          "execution_count": 24
        }
      ]
    },
    {
      "cell_type": "markdown",
      "metadata": {
        "id": "75Nlt8Lf17x2",
        "colab_type": "text"
      },
      "source": [
        "Q3."
      ]
    },
    {
      "cell_type": "code",
      "metadata": {
        "id": "YMYev8Z5_Ghm",
        "colab_type": "code",
        "colab": {}
      },
      "source": [
        ""
      ],
      "execution_count": null,
      "outputs": []
    },
    {
      "cell_type": "code",
      "metadata": {
        "id": "ftCg8-By1-F5",
        "colab_type": "code",
        "colab": {
          "base_uri": "https://localhost:8080/",
          "height": 68
        },
        "outputId": "7e491d6a-814d-4fc8-be69-f71404c55b55"
      },
      "source": [
        "# program for entered string is palidrome or anagram or neither of them\n",
        "\n",
        "s=str(input(\"Enter 1st string:\"))\n",
        "t=str(input(\"Enter 2nd string:\"))\n",
        "def nature():\n",
        "  if sorted(s)==sorted(t):\n",
        "    print(\"Entered String is an Anagram\")\n",
        "  if s==s[::-1]:\n",
        "    print(\"Entered string is a Palidrome\")\n",
        "  else:\n",
        "     print(\"Entered string is neither Anagram nor palidrome\") \n",
        "nature()"
      ],
      "execution_count": 36,
      "outputs": [
        {
          "output_type": "stream",
          "text": [
            "Enter 1st string:madam\n",
            "Enter 2nd string:adam\n",
            "Entered string is a Palidrome\n"
          ],
          "name": "stdout"
        }
      ]
    },
    {
      "cell_type": "code",
      "metadata": {
        "id": "LWBd1BHy_pNc",
        "colab_type": "code",
        "colab": {}
      },
      "source": [
        "Q4."
      ],
      "execution_count": null,
      "outputs": []
    },
    {
      "cell_type": "code",
      "metadata": {
        "id": "NoXjdhPq_qhD",
        "colab_type": "code",
        "colab": {
          "base_uri": "https://localhost:8080/",
          "height": 51
        },
        "outputId": "e1f0e7f2-5b8d-40d0-d559-7b1fa530e659"
      },
      "source": [
        "a=input(\"Enter String \")\n",
        "\n",
        "for i in a:\n",
        "  if i.isalnum():\n",
        "    print(i.lower(),end=\"\")"
      ],
      "execution_count": 40,
      "outputs": [
        {
          "output_type": "stream",
          "text": [
            "Enter String Dr. D@rshan @ Ingle\n",
            "drdrshaningle"
          ],
          "name": "stdout"
        }
      ]
    }
  ]
}